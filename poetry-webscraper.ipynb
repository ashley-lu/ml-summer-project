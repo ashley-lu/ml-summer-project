{
 "cells": [
  {
   "cell_type": "code",
   "execution_count": 18,
   "id": "powerful-queen",
   "metadata": {},
   "outputs": [],
   "source": [
    "import pandas as pd\n",
    "import requests\n",
    "import re\n",
    "from selenium import webdriver\n",
    "from selenium.webdriver.support.ui import WebDriverWait\n",
    "from selenium.webdriver.support import expected_conditions as EC\n",
    "from selenium.webdriver.common.by import By\n",
    "import time\n",
    "import sqlite3"
   ]
  },
  {
   "cell_type": "code",
   "execution_count": 30,
   "id": "selected-steps",
   "metadata": {},
   "outputs": [],
   "source": [
    "driver = webdriver.Chrome(executable_path=\"C:/Webdrivers/chromedriver.exe\")"
   ]
  },
  {
   "cell_type": "code",
   "execution_count": 28,
   "id": "utility-cement",
   "metadata": {},
   "outputs": [],
   "source": [
    "\"\"\"\n",
    "Gets all of the poem links from a single page on Poetry Foundation. Continues to loop until all of the poem links can be\n",
    "found on the page and there are no exceptions.\n",
    "\n",
    "Input: page number\n",
    "Output: list of poem links for a single page\n",
    "\"\"\"\n",
    "def get_links(page):\n",
    "    poem_links = []\n",
    "    for j in range(0, 5):\n",
    "        try:\n",
    "            driver.get(\"https://www.poetryfoundation.org/poems/browse#page={}\".format(page))\n",
    "            xpath = \"//h2[@class='c-hdgSans c-hdgSans_2']/a[contains(@href, 'poetryfoundation.org')]\"\n",
    "            # wait until all poem links are located\n",
    "            WebDriverWait(driver, 2).until(EC.presence_of_all_elements_located((By.XPATH, xpath)))\n",
    "            links = driver.find_elements_by_xpath(xpath)\n",
    "            # scroll to the last element found so the bottom elements won't be skipped\n",
    "            driver.execute_script('arguments[0].scrollIntoView();', links[-1])\n",
    "            # wait again until all poem links are located\n",
    "            WebDriverWait(driver, 2).until(EC.presence_of_all_elements_located((By.XPATH, xpath)))\n",
    "            links = driver.find_elements_by_xpath(xpath)\n",
    "            for link in links:\n",
    "                try:\n",
    "                    href = link.get_attribute(\"href\")\n",
    "                    poem_links.append(href) \n",
    "                except Exception:\n",
    "                    continue\n",
    "            break\n",
    "        except Exception:\n",
    "            # if elements could not be located, the page is refreshed\n",
    "            driver.refresh()  \n",
    "    return poem_links"
   ]
  },
  {
   "cell_type": "code",
   "execution_count": 8,
   "id": "crude-mexico",
   "metadata": {},
   "outputs": [],
   "source": [
    "# reading the links from the txt file\n",
    "file = open('all_poem_links.txt', 'r')\n",
    "lines = file.readlines()\n",
    " \n",
    "# strips the newline character\n",
    "for line in lines:\n",
    "    all_poem_links.append(line.strip())\n",
    "    \n",
    "file.close()"
   ]
  },
  {
   "cell_type": "code",
   "execution_count": 26,
   "id": "gentle-arrest",
   "metadata": {},
   "outputs": [],
   "source": [
    "all_poem_links = []"
   ]
  },
  {
   "cell_type": "code",
   "execution_count": null,
   "id": "healthy-memorial",
   "metadata": {},
   "outputs": [],
   "source": [
    "# getting all of the poem links and appending them to a list\n",
    "for i in range(0, 10):\n",
    "    temp_links = get_links(i)\n",
    "    print(str(i) + \": \" + str(len(temp_links)))\n",
    "    for link in temp_links:\n",
    "        all_poem_links.append(link)"
   ]
  },
  {
   "cell_type": "code",
   "execution_count": null,
   "id": "wrapped-torture",
   "metadata": {},
   "outputs": [],
   "source": [
    "len(all_poem_links)"
   ]
  },
  {
   "cell_type": "code",
   "execution_count": 63,
   "id": "historic-strengthening",
   "metadata": {},
   "outputs": [],
   "source": [
    "# writing the links to a txt file\n",
    "file_object = open(\"all_poem_links.txt\",\"w\")\n",
    "\n",
    "for link in all_poem_links:\n",
    "    if link != all_poem_links[len(all_poem_links) - 1]:\n",
    "        file_object.write(link + \"\\n\")\n",
    "    else:\n",
    "        file_object.write(link)\n",
    "\n",
    "file_object.close()"
   ]
  },
  {
   "cell_type": "code",
   "execution_count": 34,
   "id": "parallel-strategy",
   "metadata": {},
   "outputs": [],
   "source": [
    "\"\"\"\n",
    "Gets the title of the poem and returns it, unless no title can be found, in which None is returned.\n",
    "\n",
    "Input: poem link\n",
    "Output: the poem title if it could be located, None otherwise\n",
    "\"\"\"\n",
    "def get_poem_title(page):\n",
    "    driver.get(page)\n",
    "    try:\n",
    "        title = driver.find_element_by_xpath(\"//h1[@class='c-hdgSans c-hdgSans_2 c-mix-hdgSans_inline']\").text\n",
    "        return title\n",
    "    except Exception:\n",
    "        try:\n",
    "            # alternate xpath for titles\n",
    "            title = driver.find_element_by_xpath(\"//span[@class='c-hdgSans c-hdgSans_7']\").text\n",
    "            return title\n",
    "        except Exception:\n",
    "            return None\n",
    "    return None"
   ]
  },
  {
   "cell_type": "code",
   "execution_count": 35,
   "id": "plastic-medicaid",
   "metadata": {},
   "outputs": [],
   "source": [
    "\"\"\"\n",
    "Gets the author of the poem and returns it, unless no author can be found, in which None is returned.\n",
    "\n",
    "Input: poem link\n",
    "Output: the poem author if it could be located, None otherwise\n",
    "\"\"\"\n",
    "def get_poem_author(page):\n",
    "    driver.get(page)\n",
    "    try:\n",
    "        author = driver.find_element_by_xpath(\"//span[@class='c-txt c-txt_attribution']\").text\n",
    "        return author\n",
    "    except Exception:\n",
    "        return None"
   ]
  },
  {
   "cell_type": "code",
   "execution_count": 13,
   "id": "bigger-greene",
   "metadata": {},
   "outputs": [],
   "source": [
    "\"\"\"\n",
    "Gets the text of the poem and returns it, unless no text can be found, in which an empty string is returned.\n",
    "\n",
    "Input: poem link\n",
    "Output: the poem text if it could be located, an empty string otherwise\n",
    "\"\"\"\n",
    "def get_poem_text(page):\n",
    "    driver.get(page)\n",
    "    try:\n",
    "        temp_text = driver.find_elements_by_xpath(\"//div[@style='text-indent: -1em; padding-left: 1em;']\")\n",
    "    except Exception:\n",
    "        temp_text = driver.find_elements_by_xpath(\"//div[@class='o-poem isActive']/p\")\n",
    "    text_string = \"\"\n",
    "    for text in temp_text:\n",
    "        if text != temp_text[len(temp_text) - 1]:\n",
    "            text_string += text.text + \"\\n\"\n",
    "        else:\n",
    "            text_string += text.text\n",
    "    return text_string"
   ]
  },
  {
   "cell_type": "code",
   "execution_count": 14,
   "id": "quarterly-traveler",
   "metadata": {},
   "outputs": [],
   "source": [
    "\"\"\"\n",
    "Gets the tags of the poem and returns them, unless no tags can be found, in which None is returned.\n",
    "\n",
    "Input: poem link\n",
    "Output: the poem tags if they could be located, None otherwise\n",
    "\"\"\"\n",
    "def get_poem_tags(page):\n",
    "    driver.get(page)\n",
    "    try:\n",
    "        # clicking button to open window containing tabs\n",
    "        button = driver.find_element_by_xpath(\"//button[@class='c-btn c-btn_pullTab']\")\n",
    "        button.click()\n",
    "    except Exception:\n",
    "        return None\n",
    "    try:\n",
    "        # wait until all tags are located\n",
    "        WebDriverWait(driver, 2).until(EC.presence_of_all_elements_located((By.XPATH, \"//div[@class='c-index-bd']/ul/li/a[@class='c-btn c-btn_tag']\")))\n",
    "        temp_tags = driver.find_elements_by_xpath(\"//div[@class='c-index-bd']/ul/li/a[@class='c-btn c-btn_tag']\")\n",
    "        # scroll to the last element found so the bottom elements won't be skipped\n",
    "        driver.execute_script('arguments[0].scrollIntoView();', temp_tags[-1])\n",
    "        # wait again until all tags are located\n",
    "        WebDriverWait(driver, 2).until(EC.presence_of_all_elements_located((By.XPATH, \"//div[@class='c-index-bd']/ul/li/a[@class='c-btn c-btn_tag']\")))\n",
    "        temp_tags = driver.find_elements_by_xpath(\"//div[@class='c-index-bd']/ul/li/a[@class='c-btn c-btn_tag']\")\n",
    "        tag_string = \"\"\n",
    "        for i in range(len(temp_tags)):\n",
    "            # some tags cannot be read and end up as empty strings, so those are filtered out using regex\n",
    "            if re.search(r'[A-Za-z]', temp_tags[i].text) == None:\n",
    "                continue\n",
    "            # do not add comma to string if next element is empty string\n",
    "            if temp_tags[i] != temp_tags[len(temp_tags) - 1] and temp_tags[i + 1] == \"\":\n",
    "                tag_string += temp_tags[i].text\n",
    "                continue\n",
    "            if temp_tags[i] != temp_tags[len(temp_tags) - 1]:\n",
    "                tag_string += temp_tags[i].text + \", \"\n",
    "            else:\n",
    "                tag_string += temp_tags[i].text\n",
    "    except Exception:\n",
    "        tag_string = None\n",
    "    return tag_string"
   ]
  },
  {
   "cell_type": "code",
   "execution_count": 15,
   "id": "emerging-tourist",
   "metadata": {},
   "outputs": [],
   "source": [
    "titles = []\n",
    "authors = []\n",
    "texts = []\n",
    "tags = []"
   ]
  },
  {
   "cell_type": "code",
   "execution_count": null,
   "id": "native-egyptian",
   "metadata": {},
   "outputs": [],
   "source": [
    "# loop to get all titles, authors, texts, and tags for poem links\n",
    "for i in range(0, 46038):\n",
    "    print(str(i) + \": \" + str(len(titles)) + \", \" + str(len(authors)) + \", \" + str(len(texts)) + \", \" + str(len(tags)))\n",
    "    text = get_poem_text(all_poem_links[i])\n",
    "    # continue if there is no text for the current page\n",
    "    if text == \"\":\n",
    "        continue\n",
    "    else:\n",
    "        texts.append(text) \n",
    "    title = get_poem_title(all_poem_links[i])\n",
    "    titles.append(title)\n",
    "    author = get_poem_author(all_poem_links[i])\n",
    "    authors.append(author)\n",
    "    tag = get_poem_tags(all_poem_links[i])\n",
    "    tags.append(tag)"
   ]
  },
  {
   "cell_type": "code",
   "execution_count": 21,
   "id": "announced-charity",
   "metadata": {},
   "outputs": [],
   "source": [
    "# create sqlite3 connection\n",
    "poetry_updated = sqlite3.connect(\"poetry_updated.db\")"
   ]
  },
  {
   "cell_type": "code",
   "execution_count": null,
   "id": "finite-equality",
   "metadata": {},
   "outputs": [],
   "source": [
    "# create dictionary from lists, then create Pandas dataframe from dictionary\n",
    "data = {\"Title\": titles, \"Author\": [a.replace(\"BY \", \"\") if a != None else None for a in authors], \"Text\": texts, \"Tag\": tags}\n",
    "df = pd.DataFrame.from_dict(data)\n",
    "df"
   ]
  },
  {
   "cell_type": "code",
   "execution_count": null,
   "id": "general-gardening",
   "metadata": {},
   "outputs": [],
   "source": [
    "# dataframe cleaning: remove rows with no text, no authors, or with text that does not contain alphanumeric characters\n",
    "# Also drop duplicate rows in case something went wrong earlier\n",
    "df = df[df[\"Text\"] != \"\"]\n",
    "df = df[df[\"Author\"] != None]\n",
    "df = df[df[\"Text\"].str.contains(r'[A-Za-z0-9]+')]\n",
    "df.drop_duplicates()\n",
    "df"
   ]
  },
  {
   "cell_type": "code",
   "execution_count": 24,
   "id": "alternate-species",
   "metadata": {},
   "outputs": [],
   "source": [
    "# append data to database\n",
    "df.to_sql(\"poetry_foundation\", poetry_updated, if_exists = \"append\", index = False)"
   ]
  }
 ],
 "metadata": {
  "kernelspec": {
   "display_name": "Python [conda env:PIC16B] *",
   "language": "python",
   "name": "conda-env-PIC16B-py"
  },
  "language_info": {
   "codemirror_mode": {
    "name": "ipython",
    "version": 3
   },
   "file_extension": ".py",
   "mimetype": "text/x-python",
   "name": "python",
   "nbconvert_exporter": "python",
   "pygments_lexer": "ipython3",
   "version": "3.7.10"
  }
 },
 "nbformat": 4,
 "nbformat_minor": 5
}
